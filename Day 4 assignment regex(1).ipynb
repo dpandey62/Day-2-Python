{
 "cells": [
  {
   "cell_type": "markdown",
   "id": "aef72fb1",
   "metadata": {},
   "source": [
    "<br>DAY 2   Assignment</br>"
   ]
  },
  {
   "cell_type": "code",
   "execution_count": null,
   "id": "47aeb4a2",
   "metadata": {},
   "outputs": [],
   "source": []
  },
  {
   "cell_type": "markdown",
   "id": "ba1427a5",
   "metadata": {},
   "source": [
    "# question 1"
   ]
  },
  {
   "cell_type": "code",
   "execution_count": 1,
   "id": "ad021267",
   "metadata": {
    "scrolled": true
   },
   "outputs": [
    {
     "name": "stdout",
     "output_type": "stream",
     "text": [
      "xxxxx\n"
     ]
    }
   ],
   "source": [
    "def generate_n_chars(n, c):\n",
    "    return c * n\n",
    "\n",
    "\n",
    "print(generate_n_chars(5, 'x'))  \n"
   ]
  },
  {
   "cell_type": "markdown",
   "id": "2d717767",
   "metadata": {},
   "source": [
    "# question 2\n"
   ]
  },
  {
   "cell_type": "code",
   "execution_count": 2,
   "id": "7cc54ad0",
   "metadata": {},
   "outputs": [
    {
     "name": "stdout",
     "output_type": "stream",
     "text": [
      "5\n"
     ]
    }
   ],
   "source": [
    "def max_in_list(numbers):\n",
    "    return max(numbers)\n",
    "\n",
    "\n",
    "print(max_in_list([1, 2, 3, 4, 5])) \n"
   ]
  },
  {
   "cell_type": "markdown",
   "id": "8ba37d50",
   "metadata": {},
   "source": [
    "# question3"
   ]
  },
  {
   "cell_type": "code",
   "execution_count": 3,
   "id": "1c2a0701",
   "metadata": {},
   "outputs": [
    {
     "name": "stdout",
     "output_type": "stream",
     "text": [
      "[5, 5, 6, 11]\n"
     ]
    }
   ],
   "source": [
    "def map_words_to_lengths(words):\n",
    "    return [len(word) for word in words]\n",
    "\n",
    "words = [\"hello\", \"world\", \"Python\", \"programming\"]\n",
    "print(map_words_to_lengths(words)) \n"
   ]
  },
  {
   "cell_type": "code",
   "execution_count": 6,
   "id": "86d0cc06",
   "metadata": {
    "scrolled": true
   },
   "outputs": [
    {
     "name": "stdout",
     "output_type": "stream",
     "text": [
      "[5, 7, 6, 2, 5]\n"
     ]
    }
   ],
   "source": [
    "words = [\"hello\", \"dpandey\", \"python\", \"is\", \"great\"]\n",
    "lengths = [len(word) for word in words]\n",
    "print(lengths)"
   ]
  },
  {
   "cell_type": "markdown",
   "id": "730c48ea",
   "metadata": {},
   "source": [
    "# question 4"
   ]
  },
  {
   "cell_type": "code",
   "execution_count": 7,
   "id": "69b7aa0c",
   "metadata": {},
   "outputs": [
    {
     "name": "stdout",
     "output_type": "stream",
     "text": [
      "7\n"
     ]
    }
   ],
   "source": [
    "def find_longest_word(words):\n",
    "    return max(len(word) for word in words)\n",
    "\n",
    "words = [\"hello\", \"dpandey\", \"is\", \"great\"]\n",
    "print(find_longest_word(words))"
   ]
  },
  {
   "cell_type": "markdown",
   "id": "bf345964",
   "metadata": {},
   "source": [
    "# question 5"
   ]
  },
  {
   "cell_type": "code",
   "execution_count": 9,
   "id": "9c515cec",
   "metadata": {},
   "outputs": [
    {
     "name": "stdout",
     "output_type": "stream",
     "text": [
      "['Python', 'programming']\n",
      "['Python', 'programming']\n"
     ]
    }
   ],
   "source": [
    "def filter_long_words(words, n):\n",
    "    return [word for word in words if len(word) > n]\n",
    "\n",
    "\n",
    "filter_long_words_lambda = lambda words, n: list(filter(lambda word: len(word) > n, words))\n",
    "\n",
    "\n",
    "words = [\"hello\", \"world\", \"Python\", \"programming\"]\n",
    "print(filter_long_words(words, 5))  \n",
    "print(filter_long_words_lambda(words, 5)) "
   ]
  },
  {
   "cell_type": "code",
   "execution_count": 8,
   "id": "124f5773",
   "metadata": {},
   "outputs": [
    {
     "name": "stdout",
     "output_type": "stream",
     "text": [
      "['hello', 'world', 'python', 'great']\n"
     ]
    }
   ],
   "source": [
    "words = [\"hello\", \"world\", \"python\", \"is\", \"great\"]\n",
    "n = 4\n",
    "print((lambda words, n: [word for word in words if len(word) > n])(words, n))"
   ]
  },
  {
   "cell_type": "markdown",
   "id": "4ded04de",
   "metadata": {},
   "source": [
    "# ques....6 Palindrome recognizer"
   ]
  },
  {
   "cell_type": "code",
   "execution_count": 10,
   "id": "eb0c4752",
   "metadata": {},
   "outputs": [
    {
     "name": "stdout",
     "output_type": "stream",
     "text": [
      "[True, True, True, True, True, True, True, True, True]\n"
     ]
    }
   ],
   "source": [
    "def is_palindrome(phrase):\n",
    "    cleaned = ''.join(char.lower() for char in phrase if char.isalnum())\n",
    "    return cleaned == cleaned[::-1]\n",
    "\n",
    "\n",
    "phrases = [\n",
    "    \"Go hang a salami I'm a lasagna hog.\",\n",
    "    \"Was it a rat I saw?\",\n",
    "    \"Step on no pets\",\n",
    "    \"Sit on a potato pan, Otis\",\n",
    "    \"Lisa Bonet ate no basil\",\n",
    "    \"Satan, oscillate my metallic sonatas\",\n",
    "    \"I roamed under it as a tired nude Maori\",\n",
    "    \"Rise to vote sir\",\n",
    "    \"Dammit, I'm mad!\"\n",
    "]\n",
    "print([is_palindrome(phrase) for phrase in phrases])\n",
    "\n"
   ]
  },
  {
   "cell_type": "markdown",
   "id": "6ed98076",
   "metadata": {},
   "source": [
    "# ques...7  Pangram checker"
   ]
  },
  {
   "cell_type": "code",
   "execution_count": 11,
   "id": "2195257c",
   "metadata": {},
   "outputs": [
    {
     "name": "stdout",
     "output_type": "stream",
     "text": [
      "True\n"
     ]
    }
   ],
   "source": [
    "import string\n",
    "\n",
    "def is_pangram(sentence):\n",
    "    return set(string.ascii_lowercase) <= set(sentence.lower())\n",
    "\n",
    "\n",
    "sentence = \"The quick brown fox jumps over the lazy dog\"\n",
    "print(is_pangram(sentence))  \n"
   ]
  },
  {
   "cell_type": "markdown",
   "id": "8fcbcf9d",
   "metadata": {},
   "source": [
    "# ques.....8 "
   ]
  },
  {
   "cell_type": "code",
   "execution_count": 12,
   "id": "7806e1e5",
   "metadata": {},
   "outputs": [
    {
     "name": "stdout",
     "output_type": "stream",
     "text": [
      "['god', 'jul', 'och', 'gott', 'nytt', 'år']\n"
     ]
    }
   ],
   "source": [
    "def translate(words):\n",
    "    lexicon = {\n",
    "        \"merry\": \"god\", \"christmas\": \"jul\", \"and\": \"och\",\n",
    "        \"happy\": \"gott\", \"new\": \"nytt\", \"year\": \"år\"\n",
    "    }\n",
    "    return [lexicon.get(word, word) for word in words]\n",
    "\n",
    "\n",
    "words = [\"merry\", \"christmas\", \"and\", \"happy\", \"new\", \"year\"]\n",
    "print(translate(words))\n",
    "\n"
   ]
  },
  {
   "cell_type": "markdown",
   "id": "8d63d785",
   "metadata": {},
   "source": [
    "# ques..... 9 "
   ]
  },
  {
   "cell_type": "code",
   "execution_count": 14,
   "id": "cfcf9e21",
   "metadata": {},
   "outputs": [
    {
     "name": "stdout",
     "output_type": "stream",
     "text": [
      "{'a': 7, 'b': 14, 'c': 3, 'd': 3}\n"
     ]
    }
   ],
   "source": [
    "def char_freq(s):\n",
    "    frequency = {}\n",
    "    for char in s:\n",
    "        frequency[char] = frequency.get(char, 0) + 1\n",
    "    return frequency\n",
    "\n",
    "print(char_freq(\"abbabcbdbabdbdbabababcbcbab\"))\n",
    "\n"
   ]
  },
  {
   "cell_type": "code",
   "execution_count": 13,
   "id": "98007de4",
   "metadata": {},
   "outputs": [
    {
     "name": "stdout",
     "output_type": "stream",
     "text": [
      "{'a': 7, 'b': 14, 'd': 3, 'c': 3}\n"
     ]
    }
   ],
   "source": [
    "def char_freq(s):\n",
    "    return {char: s.count(char) for char in set(s)}\n",
    "\n",
    "\n",
    "print(char_freq(\"abbabcbdbabdbdbabababcbcbab\"))\n",
    "\n"
   ]
  },
  {
   "cell_type": "markdown",
   "id": "f9ac7062",
   "metadata": {},
   "source": [
    "# ques.....10 mathematics.py"
   ]
  },
  {
   "cell_type": "code",
   "execution_count": 15,
   "id": "20e3f3f9",
   "metadata": {},
   "outputs": [
    {
     "name": "stdout",
     "output_type": "stream",
     "text": [
      "6\n",
      "5\n",
      "[1, 2, 3]\n",
      "3\n",
      "1\n"
     ]
    }
   ],
   "source": [
    "def add(*args):\n",
    "    return sum(args)\n",
    "\n",
    "def sub(*args):\n",
    "    return args[0] - sum(args[1:])\n",
    "\n",
    "def sort_values(*args):\n",
    "    return sorted(args)\n",
    "\n",
    "def max_value(*args):\n",
    "    return max(args)\n",
    "\n",
    "def min_value(*args):\n",
    "    return min(args)\n",
    "\n",
    "\n",
    "if __name__ == \"__main__\":\n",
    "    print(add(1, 2, 3)) \n",
    "    print(sub(10, 3, 2)) \n",
    "    print(sort_values(3, 1, 2)) \n",
    "    print(max_value(1, 2, 3))  \n",
    "    print(min_value(1, 2, 3))  "
   ]
  },
  {
   "cell_type": "markdown",
   "id": "74d518be",
   "metadata": {},
   "source": [
    "<br>Day 4 asssignment</br>"
   ]
  },
  {
   "cell_type": "markdown",
   "id": "35fdaf59",
   "metadata": {},
   "source": [
    "# ques ....1"
   ]
  },
  {
   "cell_type": "code",
   "execution_count": 2,
   "id": "9d9214a1",
   "metadata": {},
   "outputs": [
    {
     "name": "stdout",
     "output_type": "stream",
     "text": [
      "[69.8, 73.4, 64.4, 71.6, 66.2, 93.2, 75.2, 95.0]\n"
     ]
    }
   ],
   "source": [
    "\n",
    "Amount = [21, 23, 18, 22, 19, 34, 24, 35]\n",
    "fahrenheit = list(map(lambda c: (c * 9/5) + 32, Amount))\n",
    "print(fahrenheit)\n"
   ]
  },
  {
   "cell_type": "markdown",
   "id": "626dac40",
   "metadata": {},
   "source": [
    "# ques....2"
   ]
  },
  {
   "cell_type": "code",
   "execution_count": 3,
   "id": "76bfa0d5",
   "metadata": {},
   "outputs": [
    {
     "name": "stdout",
     "output_type": "stream",
     "text": [
      "[25, 28, 26, 27, 31, 28, 29, 30, 34, 32, 33, 35, 32, 37, 36, 40, 38, 39]\n"
     ]
    }
   ],
   "source": [
    "numbers = [25, 28, 26, 4000, 27, 31, 5, 28, 29, 30, 34, 8, 32, 33, 35, 32, 37, 36, 40, 38, 39, 95]\n",
    "filtered_numbers = list(filter(lambda x: 25 <= x <= 40, numbers))\n",
    "print(filtered_numbers)\n"
   ]
  },
  {
   "cell_type": "markdown",
   "id": "9ae9eb1a",
   "metadata": {},
   "source": [
    "# ques.....3"
   ]
  },
  {
   "cell_type": "code",
   "execution_count": 4,
   "id": "9ba72af0",
   "metadata": {},
   "outputs": [
    {
     "name": "stdout",
     "output_type": "stream",
     "text": [
      "[3, 5, 2, 6, 8, 18, 44, 21, 4]\n"
     ]
    }
   ],
   "source": [
    "List = [3, 5, 2, 6, 8, 3, 18, 5, 3, 44, 21, 4, 18, 2]\n",
    "unique_list = []\n",
    "for item in List:\n",
    "    if item not in unique_list:\n",
    "        unique_list.append(item)\n",
    "print(unique_list)\n"
   ]
  },
  {
   "cell_type": "markdown",
   "id": "e8d4a1a4",
   "metadata": {},
   "source": [
    "# ques.....4"
   ]
  },
  {
   "cell_type": "code",
   "execution_count": 5,
   "id": "797e63d6",
   "metadata": {},
   "outputs": [
    {
     "name": "stdout",
     "output_type": "stream",
     "text": [
      "[1, 2, 3, 4]\n"
     ]
    }
   ],
   "source": [
    "def add_unique(lst, value):\n",
    "    if value not in lst:\n",
    "        lst.append(value)\n",
    "    return lst\n",
    "\n",
    "\n",
    "List = [1, 2, 3]\n",
    "List = add_unique(List, 3)\n",
    "List = add_unique(List, 4)\n",
    "print(List)  \n"
   ]
  },
  {
   "cell_type": "markdown",
   "id": "c82a167e",
   "metadata": {},
   "source": [
    "# ques.....5"
   ]
  },
  {
   "cell_type": "code",
   "execution_count": 6,
   "id": "fad24e34",
   "metadata": {},
   "outputs": [
    {
     "name": "stdout",
     "output_type": "stream",
     "text": [
      "True\n",
      "False\n"
     ]
    }
   ],
   "source": [
    "def is_palindrome(s):\n",
    "    return s == s[::-1]\n",
    "\n",
    "# Example usage\n",
    "print(is_palindrome(\"racecar\"))  \n",
    "print(is_palindrome(\"hello\"))    \n"
   ]
  },
  {
   "cell_type": "markdown",
   "id": "39c62750",
   "metadata": {},
   "source": [
    "# ques....6"
   ]
  },
  {
   "cell_type": "code",
   "execution_count": 7,
   "id": "f4dffcd8",
   "metadata": {},
   "outputs": [
    {
     "name": "stdout",
     "output_type": "stream",
     "text": [
      "Feb 23 07:34:56 3C-21-5A-14-81-0A router1 snmpd[359]: %DAEMON-3-SNMPD_TRAP_WARM_START: trap_generate_warm: SNMP trap: warm start\n"
     ]
    }
   ],
   "source": [
    "import re\n",
    "\n",
    "def find_mac_lines(text):\n",
    "    mac_pattern = re.compile(r'([0-9A-Fa-f]{2}-){5}[0-9A-Fa-f]{2}')\n",
    "    lines = text.split('\\n')\n",
    "    mac_lines = [line for line in lines if mac_pattern.search(line)]\n",
    "    return mac_lines\n",
    "\n",
    "log = \"\"\"%DAEMON-3-SNMPD_TRAP_WARM_START: trap_generate_warm: SNMP 0E-2B-56-1C-89-\n",
    "Internal Use - Confidential\n",
    "0 trap: warm start\n",
    "Feb 22 20:35:07 router1 snmpd[359]: %DAEMON-6-SNMPD_THROTTLE_QUEUE_DRAINED: trap_throttle_timer_handler: cleared all\n",
    "throttled traps\n",
    "Feb 23 07:34:56 3C-21-5A-14-81-0A router1 snmpd[359]: %DAEMON-3-SNMPD_TRAP_WARM_START: trap_generate_warm: SNMP trap: warm start\n",
    "Feb 23 07:38:19 router1 snmpd[359]: %DAEMON-2-SNMPD_TRAP_COLD_START: trap_generate_cold: SNMP trap: cold start\"\"\"\n",
    "\n",
    "mac_lines = find_mac_lines(log)\n",
    "for line in mac_lines:\n",
    "    print(line)\n"
   ]
  },
  {
   "cell_type": "markdown",
   "id": "1f5a8243",
   "metadata": {},
   "source": [
    "# quess....7"
   ]
  },
  {
   "cell_type": "code",
   "execution_count": 8,
   "id": "d69e04aa",
   "metadata": {},
   "outputs": [
    {
     "name": "stdout",
     "output_type": "stream",
     "text": [
      "%DAEMON-3-SNMPD_TRAP_WARM_START: trap_generate_warm: 253.67.34.9 SNMP trap: warm start\n",
      "Feb 23 07:34:56 router1 snmpd[359]: %DAEMON-3-SNMPD_TRAP_WARM_START: trap_generate_warm: 10.145.78.2 SNMP trap: warm start\n"
     ]
    }
   ],
   "source": [
    "import re\n",
    "\n",
    "def find_ip_lines(text):\n",
    "    ip_pattern = re.compile(r'\\b(?:[0-9]{1,3}\\.){3}[0-9]{1,3}\\b')\n",
    "    lines = text.split('\\n')\n",
    "    ip_lines = [line for line in lines if ip_pattern.search(line)]\n",
    "    return ip_lines\n",
    "\n",
    "log = \"\"\"%DAEMON-3-SNMPD_TRAP_WARM_START: trap_generate_warm: 253.67.34.9 SNMP trap: warm start\n",
    "Feb 22 20:35:07 router1 snmpd[359]: %DAEMON-6-SNMPD_THROTTLE_QUEUE_DRAINED: trap_throttle_timer_handler: cleared all throttled traps\n",
    "Feb 23 07:34:56 router1 snmpd[359]: %DAEMON-3-SNMPD_TRAP_WARM_START: trap_generate_warm: 10.145.78.2 SNMP trap: warm start\n",
    "Feb 23 07:38:19 router1 snmpd[359]: %DAEMON-2-SNMPD_TRAP_COLD_START: trap_generate_cold: SNMP trap: cold start\"\"\"\n",
    "\n",
    "ip_lines = find_ip_lines(log)\n",
    "for line in ip_lines:\n",
    "    print(line)\n"
   ]
  },
  {
   "cell_type": "code",
   "execution_count": null,
   "id": "d35e64c1",
   "metadata": {},
   "outputs": [],
   "source": []
  },
  {
   "cell_type": "code",
   "execution_count": null,
   "id": "d40d88c6",
   "metadata": {},
   "outputs": [],
   "source": []
  }
 ],
 "metadata": {
  "kernelspec": {
   "display_name": "Python 3 (ipykernel)",
   "language": "python",
   "name": "python3"
  },
  "language_info": {
   "codemirror_mode": {
    "name": "ipython",
    "version": 3
   },
   "file_extension": ".py",
   "mimetype": "text/x-python",
   "name": "python",
   "nbconvert_exporter": "python",
   "pygments_lexer": "ipython3",
   "version": "3.11.3"
  }
 },
 "nbformat": 4,
 "nbformat_minor": 5
}

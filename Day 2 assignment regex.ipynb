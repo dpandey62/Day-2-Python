{
 "cells": [
  {
   "cell_type": "markdown",
   "id": "aef72fb1",
   "metadata": {},
   "source": [
    "<br>DAY 2   Assignment</br>"
   ]
  },
  {
   "cell_type": "code",
   "execution_count": null,
   "id": "47aeb4a2",
   "metadata": {},
   "outputs": [],
   "source": []
  },
  {
   "cell_type": "markdown",
   "id": "ba1427a5",
   "metadata": {},
   "source": [
    "# question 1"
   ]
  },
  {
   "cell_type": "code",
   "execution_count": 1,
   "id": "ad021267",
   "metadata": {
    "scrolled": true
   },
   "outputs": [
    {
     "name": "stdout",
     "output_type": "stream",
     "text": [
      "xxxxx\n"
     ]
    }
   ],
   "source": [
    "def generate_n_chars(n, c):\n",
    "    return c * n\n",
    "\n",
    "\n",
    "print(generate_n_chars(5, 'x'))  \n"
   ]
  },
  {
   "cell_type": "markdown",
   "id": "2d717767",
   "metadata": {},
   "source": [
    "# question 2\n"
   ]
  },
  {
   "cell_type": "code",
   "execution_count": 2,
   "id": "7cc54ad0",
   "metadata": {},
   "outputs": [
    {
     "name": "stdout",
     "output_type": "stream",
     "text": [
      "5\n"
     ]
    }
   ],
   "source": [
    "def max_in_list(numbers):\n",
    "    return max(numbers)\n",
    "\n",
    "\n",
    "print(max_in_list([1, 2, 3, 4, 5])) \n"
   ]
  },
  {
   "cell_type": "markdown",
   "id": "8ba37d50",
   "metadata": {},
   "source": [
    "# question3"
   ]
  },
  {
   "cell_type": "code",
   "execution_count": 3,
   "id": "1c2a0701",
   "metadata": {},
   "outputs": [
    {
     "name": "stdout",
     "output_type": "stream",
     "text": [
      "[5, 5, 6, 11]\n"
     ]
    }
   ],
   "source": [
    "def map_words_to_lengths(words):\n",
    "    return [len(word) for word in words]\n",
    "\n",
    "words = [\"hello\", \"world\", \"Python\", \"programming\"]\n",
    "print(map_words_to_lengths(words)) \n"
   ]
  },
  {
   "cell_type": "code",
   "execution_count": 6,
   "id": "86d0cc06",
   "metadata": {
    "scrolled": true
   },
   "outputs": [
    {
     "name": "stdout",
     "output_type": "stream",
     "text": [
      "[5, 7, 6, 2, 5]\n"
     ]
    }
   ],
   "source": [
    "words = [\"hello\", \"dpandey\", \"python\", \"is\", \"great\"]\n",
    "lengths = [len(word) for word in words]\n",
    "print(lengths)"
   ]
  },
  {
   "cell_type": "markdown",
   "id": "730c48ea",
   "metadata": {},
   "source": [
    "# question 4"
   ]
  },
  {
   "cell_type": "code",
   "execution_count": 7,
   "id": "69b7aa0c",
   "metadata": {},
   "outputs": [
    {
     "name": "stdout",
     "output_type": "stream",
     "text": [
      "7\n"
     ]
    }
   ],
   "source": [
    "def find_longest_word(words):\n",
    "    return max(len(word) for word in words)\n",
    "\n",
    "words = [\"hello\", \"dpandey\", \"is\", \"great\"]\n",
    "print(find_longest_word(words))"
   ]
  },
  {
   "cell_type": "markdown",
   "id": "bf345964",
   "metadata": {},
   "source": [
    "# question 5"
   ]
  },
  {
   "cell_type": "code",
   "execution_count": 9,
   "id": "9c515cec",
   "metadata": {},
   "outputs": [
    {
     "name": "stdout",
     "output_type": "stream",
     "text": [
      "['Python', 'programming']\n",
      "['Python', 'programming']\n"
     ]
    }
   ],
   "source": [
    "def filter_long_words(words, n):\n",
    "    return [word for word in words if len(word) > n]\n",
    "\n",
    "\n",
    "filter_long_words_lambda = lambda words, n: list(filter(lambda word: len(word) > n, words))\n",
    "\n",
    "\n",
    "words = [\"hello\", \"world\", \"Python\", \"programming\"]\n",
    "print(filter_long_words(words, 5))  \n",
    "print(filter_long_words_lambda(words, 5)) "
   ]
  },
  {
   "cell_type": "code",
   "execution_count": 8,
   "id": "124f5773",
   "metadata": {},
   "outputs": [
    {
     "name": "stdout",
     "output_type": "stream",
     "text": [
      "['hello', 'world', 'python', 'great']\n"
     ]
    }
   ],
   "source": [
    "words = [\"hello\", \"world\", \"python\", \"is\", \"great\"]\n",
    "n = 4\n",
    "print((lambda words, n: [word for word in words if len(word) > n])(words, n))"
   ]
  },
  {
   "cell_type": "markdown",
   "id": "4ded04de",
   "metadata": {},
   "source": [
    "# ques....6 Palindrome recognizer"
   ]
  },
  {
   "cell_type": "code",
   "execution_count": 10,
   "id": "eb0c4752",
   "metadata": {},
   "outputs": [
    {
     "name": "stdout",
     "output_type": "stream",
     "text": [
      "[True, True, True, True, True, True, True, True, True]\n"
     ]
    }
   ],
   "source": [
    "def is_palindrome(phrase):\n",
    "    cleaned = ''.join(char.lower() for char in phrase if char.isalnum())\n",
    "    return cleaned == cleaned[::-1]\n",
    "\n",
    "\n",
    "phrases = [\n",
    "    \"Go hang a salami I'm a lasagna hog.\",\n",
    "    \"Was it a rat I saw?\",\n",
    "    \"Step on no pets\",\n",
    "    \"Sit on a potato pan, Otis\",\n",
    "    \"Lisa Bonet ate no basil\",\n",
    "    \"Satan, oscillate my metallic sonatas\",\n",
    "    \"I roamed under it as a tired nude Maori\",\n",
    "    \"Rise to vote sir\",\n",
    "    \"Dammit, I'm mad!\"\n",
    "]\n",
    "print([is_palindrome(phrase) for phrase in phrases])\n",
    "\n"
   ]
  },
  {
   "cell_type": "markdown",
   "id": "6ed98076",
   "metadata": {},
   "source": [
    "# ques...7  Pangram checker"
   ]
  },
  {
   "cell_type": "code",
   "execution_count": 11,
   "id": "2195257c",
   "metadata": {},
   "outputs": [
    {
     "name": "stdout",
     "output_type": "stream",
     "text": [
      "True\n"
     ]
    }
   ],
   "source": [
    "import string\n",
    "\n",
    "def is_pangram(sentence):\n",
    "    return set(string.ascii_lowercase) <= set(sentence.lower())\n",
    "\n",
    "\n",
    "sentence = \"The quick brown fox jumps over the lazy dog\"\n",
    "print(is_pangram(sentence))  \n"
   ]
  },
  {
   "cell_type": "markdown",
   "id": "8fcbcf9d",
   "metadata": {},
   "source": [
    "# ques.....8 "
   ]
  },
  {
   "cell_type": "code",
   "execution_count": 12,
   "id": "7806e1e5",
   "metadata": {},
   "outputs": [
    {
     "name": "stdout",
     "output_type": "stream",
     "text": [
      "['god', 'jul', 'och', 'gott', 'nytt', 'år']\n"
     ]
    }
   ],
   "source": [
    "def translate(words):\n",
    "    lexicon = {\n",
    "        \"merry\": \"god\", \"christmas\": \"jul\", \"and\": \"och\",\n",
    "        \"happy\": \"gott\", \"new\": \"nytt\", \"year\": \"år\"\n",
    "    }\n",
    "    return [lexicon.get(word, word) for word in words]\n",
    "\n",
    "\n",
    "words = [\"merry\", \"christmas\", \"and\", \"happy\", \"new\", \"year\"]\n",
    "print(translate(words))\n",
    "\n"
   ]
  },
  {
   "cell_type": "markdown",
   "id": "8d63d785",
   "metadata": {},
   "source": [
    "# ques..... 9 "
   ]
  },
  {
   "cell_type": "code",
   "execution_count": 14,
   "id": "cfcf9e21",
   "metadata": {},
   "outputs": [
    {
     "name": "stdout",
     "output_type": "stream",
     "text": [
      "{'a': 7, 'b': 14, 'c': 3, 'd': 3}\n"
     ]
    }
   ],
   "source": [
    "def char_freq(s):\n",
    "    frequency = {}\n",
    "    for char in s:\n",
    "        frequency[char] = frequency.get(char, 0) + 1\n",
    "    return frequency\n",
    "\n",
    "print(char_freq(\"abbabcbdbabdbdbabababcbcbab\"))\n",
    "\n"
   ]
  },
  {
   "cell_type": "code",
   "execution_count": 13,
   "id": "98007de4",
   "metadata": {},
   "outputs": [
    {
     "name": "stdout",
     "output_type": "stream",
     "text": [
      "{'a': 7, 'b': 14, 'd': 3, 'c': 3}\n"
     ]
    }
   ],
   "source": [
    "def char_freq(s):\n",
    "    return {char: s.count(char) for char in set(s)}\n",
    "\n",
    "\n",
    "print(char_freq(\"abbabcbdbabdbdbabababcbcbab\"))\n",
    "\n"
   ]
  },
  {
   "cell_type": "markdown",
   "id": "f9ac7062",
   "metadata": {},
   "source": [
    "# ques.....10 mathematics.py"
   ]
  },
  {
   "cell_type": "code",
   "execution_count": 15,
   "id": "20e3f3f9",
   "metadata": {},
   "outputs": [
    {
     "name": "stdout",
     "output_type": "stream",
     "text": [
      "6\n",
      "5\n",
      "[1, 2, 3]\n",
      "3\n",
      "1\n"
     ]
    }
   ],
   "source": [
    "def add(*args):\n",
    "    return sum(args)\n",
    "\n",
    "def sub(*args):\n",
    "    return args[0] - sum(args[1:])\n",
    "\n",
    "def sort_values(*args):\n",
    "    return sorted(args)\n",
    "\n",
    "def max_value(*args):\n",
    "    return max(args)\n",
    "\n",
    "def min_value(*args):\n",
    "    return min(args)\n",
    "\n",
    "\n",
    "if __name__ == \"__main__\":\n",
    "    print(add(1, 2, 3)) \n",
    "    print(sub(10, 3, 2)) \n",
    "    print(sort_values(3, 1, 2)) \n",
    "    print(max_value(1, 2, 3))  \n",
    "    print(min_value(1, 2, 3))  "
   ]
  }
 ],
 "metadata": {
  "kernelspec": {
   "display_name": "Python 3 (ipykernel)",
   "language": "python",
   "name": "python3"
  },
  "language_info": {
   "codemirror_mode": {
    "name": "ipython",
    "version": 3
   },
   "file_extension": ".py",
   "mimetype": "text/x-python",
   "name": "python",
   "nbconvert_exporter": "python",
   "pygments_lexer": "ipython3",
   "version": "3.11.3"
  }
 },
 "nbformat": 4,
 "nbformat_minor": 5
}
